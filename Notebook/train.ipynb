{
  "nbformat": 4,
  "nbformat_minor": 0,
  "metadata": {
    "colab": {
      "provenance": [],
      "gpuType": "T4",
      "authorship_tag": "ABX9TyN+c/T0b4UPX5Ue3qpBoLWl",
      "include_colab_link": true
    },
    "kernelspec": {
      "name": "python3",
      "display_name": "Python 3"
    },
    "language_info": {
      "name": "python"
    },
    "accelerator": "GPU"
  },
  "cells": [
    {
      "cell_type": "markdown",
      "metadata": {
        "id": "view-in-github",
        "colab_type": "text"
      },
      "source": [
        "<a href=\"https://colab.research.google.com/github/JZhouSaclay/DataChallenge/blob/main/train.ipynb\" target=\"_parent\"><img src=\"https://colab.research.google.com/assets/colab-badge.svg\" alt=\"Open In Colab\"/></a>"
      ]
    },
    {
      "cell_type": "code",
      "execution_count": null,
      "metadata": {
        "id": "qoDKEi-GO51r"
      },
      "outputs": [],
      "source": [
        "import pandas as pd\n",
        "import numpy as np\n",
        "import matplotlib.pyplot as plt\n",
        "import holidays\n",
        "import seaborn as sns\n",
        "from statsmodels.tsa.seasonal import seasonal_decompose\n",
        "from torch.utils.data import DataLoader, Dataset, TensorDataset\n",
        "import sklearn\n",
        "from sklearn.preprocessing import MinMaxScaler, StandardScaler\n",
        "from sklearn.model_selection import train_test_split\n",
        "from torch import nn as nn\n",
        "import torch.optim as optim\n",
        "from tqdm import tqdm\n",
        "import torch\n",
        "import torch.nn as nn\n",
        "import torch.nn.functional as F\n",
        "import joblib\n",
        "\n",
        "device = torch.device(\"cuda:0\" if torch.cuda.is_available() else \"cpu\")\n",
        "\n",
        "def fill_with_cyclic_mean(df, col):\n",
        "    for index in df[df[col].isnull()].index:  # parcourir les données manquantes\n",
        "        # obtenir les informations temporaires de la donnée manquante\n",
        "        month = df.loc[index, 'Month']\n",
        "        day = df.loc[index, 'Day']\n",
        "        hour = df.loc[index, 'Hour']\n",
        "\n",
        "        # trouver les valeurs de même instant des autres années\n",
        "        similar_time_data = df[(df['Month'] == month) &\n",
        "                               (df['Day'] == day) &\n",
        "                               (df['Hour'] == hour) &\n",
        "                               (~df[col].isnull())][col]\n",
        "\n",
        "        # calculer une moyenne\n",
        "        if not similar_time_data.empty:\n",
        "            df.at[index, col] = similar_time_data.mean()\n",
        "\n",
        "def dataProcessing(data_name):\n",
        "    public_df = pd.read_csv(f'./{data_name}.csv')\n",
        "\n",
        "    public_df['date'] = pd.to_datetime(public_df['date'], utc=True)\n",
        "    public_df['date_utc'] = public_df['date'].dt.tz_convert('UTC')\n",
        "\n",
        "    # les infos de temps basique\n",
        "    public_df['Month'] = public_df['date_utc'].dt.month\n",
        "    public_df['Year'] = public_df['date_utc'].dt.year\n",
        "    public_df['Day'] = public_df['date_utc'].dt.day\n",
        "    public_df['Hour'] = public_df['date_utc'].dt.hour\n",
        "    public_df['Week'] = public_df['date'].dt.isocalendar().week\n",
        "    public_df['Weekday'] = public_df['date_utc'].dt.weekday\n",
        "    public_df['toy'] = public_df['date'].dt.dayofyear\n",
        "    public_df['Minute'] = public_df['date_utc'].dt.minute\n",
        "    public_df['Half_Hour'] = public_df['Hour'] * 2 + (public_df['Minute'] // 30)\n",
        "\n",
        "    # les vacances et jours fériés\n",
        "    fr_holidays = holidays.France()\n",
        "    public_df['is_holiday'] = public_df['date_utc'].dt.date.apply(lambda x: x in fr_holidays)\n",
        "\n",
        "    public_df['is_summer_vacation'] = public_df['date_utc'].apply(\n",
        "        lambda x: (x.month == 8) or (x.month == 6 and x.day >= 10) or (x.month == 7)\n",
        "    )\n",
        "    public_df['vacances'] = public_df['date_utc'].apply(\n",
        "        lambda x: (x.month == 8 and x.day >= 1 and x.day <= 15) or\n",
        "                  (x.month == 12 and x.day >= 25) or\n",
        "                  (x.month == 1 and x.day <= 2)\n",
        "    )\n",
        "    public_df['big_holiday'] = public_df['date_utc'].apply(\n",
        "        lambda x: (x.month == 5 and x.day == 1) or\n",
        "                  (x.month == 7 and x.day == 14) or\n",
        "                  (x.month == 12 and x.day == 25) or\n",
        "                  (x.month == 1 and x.day == 1)\n",
        "    )\n",
        "\n",
        "    # pandémie\n",
        "    pandemic_periods = [\n",
        "        ('2020-03-17', '2020-05-10'),\n",
        "        ('2020-10-30', '2020-12-14'),\n",
        "        ('2021-02-27', '2021-02-28'),\n",
        "        ('2021-03-06', '2021-03-07'),\n",
        "        ('2021-04-01', '2021-04-04')\n",
        "    ]\n",
        "    public_df['is_pandemic'] = False\n",
        "    for start, end in pandemic_periods:\n",
        "        public_df['is_pandemic'] |= public_df['date_utc'].between(start, end)\n",
        "\n",
        "    public_df['Season'] = public_df['Month'].apply(\n",
        "        lambda month: 0 if month in [3,4, 5] else\n",
        "                      1 if month in [6, 7, 8,9] else\n",
        "                      2 if month in [10, 11] else\n",
        "                      3\n",
        "    )\n",
        "\n",
        "    # type de jours dans la semaine\n",
        "    public_df['is_weekend'] = public_df['Weekday'].apply(lambda x: x in [5, 6])\n",
        "    public_df['is_workday'] = public_df['Weekday'].apply(lambda x: x in [1, 2, 3])\n",
        "    public_df['is_transday'] = public_df['Weekday'].apply(lambda x: x in [0, 4])\n",
        "    public_df['is_vacation'] = public_df['Week'].apply(lambda x: x in range(30, 35))\n",
        "\n",
        "    # sin/cos encoding de 48 dimensions\n",
        "    time_variables = {\n",
        "        'Half_Hour': 48,      #48 intervalles de demi-heure dans une journée\n",
        "        'Weekday': 7,         # 7 j/semaine\n",
        "        'Month': 12,\n",
        "        'Season': 4,\n",
        "        'toy': 365,\n",
        "    }\n",
        "    max_k = 48 # dim max\n",
        "\n",
        "    # on utilise dict pour tout enregistrer, puis concaténer, pour éviter de trop modifier le dataframe\n",
        "    fourier_features = {}\n",
        "\n",
        "    for var, period in time_variables.items():\n",
        "        for k in range(1, max_k + 1):\n",
        "            fourier_features[f'sin_{var}_k{k}'] = np.sin(2 * np.pi * k * public_df[var] / period)\n",
        "            fourier_features[f'cos_{var}_k{k}'] = np.cos(2 * np.pi * k * public_df[var] / period)\n",
        "\n",
        "    public_df = pd.concat([public_df, pd.DataFrame(fourier_features)], axis=1)\n",
        "\n",
        "    return public_df\n",
        "\n",
        "\n",
        "def weatherProcessing(data_name):\n",
        "    weather = pd.read_parquet(f'./{data_name}.parquet')\n",
        "    weather['date'] = pd.to_datetime(weather['date'], utc=True)\n",
        "    variables = ['t', 'u', 'td', 'ff', 'dd']\n",
        "\n",
        "    # on supprime celui qui a trop de données manquantes, impossible de remplir\n",
        "    weather_metropole = weather[weather['nom_epci'] != \"Métropole Toulon-Provence-Méditerranée\"]\n",
        "\n",
        "    weather_avg_metropole = weather_metropole.groupby(['nom_epci', 'date'])[variables].mean().reset_index()\n",
        "    weather_pivot_metropole = weather_avg_metropole.pivot_table(index='date', columns='nom_epci', values=variables)\n",
        "    weather_pivot_metropole = weather_pivot_metropole.interpolate(method='linear', limit_direction='both')\n",
        "    weather_pivot_metropole.index = pd.to_datetime(weather_pivot_metropole.index, utc=True)\n",
        "    weather_resampled_metropole = weather_pivot_metropole.resample('30min').interpolate(method='linear')\n",
        "\n",
        "    # niveau Région\n",
        "    weather_avg = weather.groupby(['nom_reg', 'date'])[variables].mean().reset_index()\n",
        "    weather_pivot = weather_avg.pivot_table(index='date', columns='nom_reg', values=variables)\n",
        "    weather_pivot = weather_pivot.interpolate(method='linear', limit_direction='both')\n",
        "    weather_pivot.index = pd.to_datetime(weather_pivot.index, utc=True)\n",
        "    weather_resampled = weather_pivot.resample('30min').interpolate(method='linear')\n",
        "\n",
        "    # ajout de nouvelles colonnes correspondantes à chaque variables de météo\n",
        "    weather_resampled_metropole.columns = ['_'.join(col).strip() if isinstance(col, tuple) else col for col in weather_resampled_metropole.columns]\n",
        "    weather_resampled.columns = ['_'.join(col).strip() if isinstance(col, tuple) else col for col in weather_resampled.columns]\n",
        "\n",
        "    # reset index avec date\n",
        "    if 'date' not in weather_resampled_metropole.columns:\n",
        "        weather_resampled_metropole.reset_index(inplace=True)\n",
        "    if 'date' not in weather_resampled.columns:\n",
        "        weather_resampled.reset_index(inplace=True)\n",
        "\n",
        "    # on fait d'abord pour ville, puis région, ensuite concat\n",
        "    weather_df = pd.merge(weather_resampled_metropole, weather_resampled, on='date', how='outer')\n",
        "\n",
        "    return weather_df\n",
        "\n",
        "class MLPWithAttentionAll(nn.Module):\n",
        "    def __init__(self, input_dim, hidden_dim=512, output_dim=25, num_layers=3, dropout_rate=0.2):\n",
        "        super(MLPWithAttentionAll, self).__init__()\n",
        "\n",
        "        self.layers = nn.ModuleList()\n",
        "        self.batchnorms = nn.ModuleList()\n",
        "        self.attentions = nn.ModuleList()\n",
        "\n",
        "        # input\n",
        "        self.layers.append(nn.Linear(input_dim, hidden_dim))\n",
        "        self.batchnorms.append(nn.BatchNorm1d(hidden_dim))\n",
        "        self.attentions.append(nn.Linear(hidden_dim, 1))  # self.attention\n",
        "\n",
        "        # hidden\n",
        "        for _ in range(num_layers - 1):  # num_layers\n",
        "            self.layers.append(nn.Linear(hidden_dim, hidden_dim))\n",
        "            self.batchnorms.append(nn.BatchNorm1d(hidden_dim))\n",
        "            self.attentions.append(nn.Linear(hidden_dim, 1))\n",
        "\n",
        "        # output\n",
        "        self.output_layer = nn.Linear(hidden_dim, output_dim)\n",
        "        self.dropout = nn.Dropout(p=dropout_rate)\n",
        "\n",
        "    def forward(self, x):\n",
        "        for i in range(len(self.layers)):\n",
        "            x = F.relu(self.layers[i](x))\n",
        "            x = self.batchnorms[i](x)  # batch normalisation\n",
        "            attn_weights = torch.sigmoid(self.attentions[i](x))\n",
        "            x = x * attn_weights\n",
        "            x = self.dropout(x)\n",
        "\n",
        "        x = self.output_layer(x)  # les 25 colonnes en une fois\n",
        "        return x\n",
        "\n",
        "def RMSE(y_pred, y_true):\n",
        "    return torch.sqrt(((y_pred - y_true)**2).mean())\n",
        "\n"
      ]
    },
    {
      "cell_type": "code",
      "source": [
        "\n",
        "conso_df = dataProcessing(\"train\")\n",
        "weather_data = weatherProcessing(\"meteo\")\n",
        "\n",
        "column_names = conso_df.columns.tolist()\n",
        "date_utc_index = column_names.index('date_utc')\n",
        "explanatory_vars = column_names[:date_utc_index]\n",
        "for col in explanatory_vars:\n",
        "    fill_with_cyclic_mean(conso_df, col)"
      ],
      "metadata": {
        "id": "hIuMXDgzQ2U4"
      },
      "execution_count": null,
      "outputs": []
    },
    {
      "cell_type": "code",
      "source": [
        "train_data = conso_df.merge(weather_data, on='date', how='left')\n",
        "train_data = train_data.select_dtypes(exclude=['datetime64[ns, UTC]'])"
      ],
      "metadata": {
        "id": "__0D9adHcDf5"
      },
      "execution_count": null,
      "outputs": []
    },
    {
      "cell_type": "code",
      "source": [
        "#train_data.columns.tolist()"
      ],
      "metadata": {
        "id": "gBiJUucxcKNO"
      },
      "execution_count": null,
      "outputs": []
    },
    {
      "cell_type": "code",
      "source": [
        "\n",
        "drop_features = [ 'Day', 'Hour', 'Week', 'toy', 'Minute', 'Half_Hour']\n",
        "# on ne veut plus ces données là, on a déjà les versions sin/cos\n",
        "train_data = train_data.drop(columns=drop_features, errors='ignore')\n",
        "\n",
        "target_columns = ['France','Auvergne-Rhône-Alpes','Bourgogne-Franche-Comté','Bretagne','Centre-Val de Loire',\n",
        " 'Grand Est','Hauts-de-France','Normandie','Nouvelle-Aquitaine','Occitanie','Pays de la Loire',\"Provence-Alpes-Côte d'Azur\",\n",
        " 'Île-de-France','Montpellier Méditerranée Métropole','Métropole Européenne de Lille','Métropole Grenoble-Alpes-Métropole',\n",
        " \"Métropole Nice Côte d'Azur\",'Métropole Rennes Métropole','Métropole Rouen Normandie',\"Métropole d'Aix-Marseille-Provence\",\n",
        " 'Métropole de Lyon','Métropole du Grand Nancy','Métropole du Grand Paris','Nantes Métropole','Toulouse Métropole']\n",
        "\n",
        "input_dim = train_data.shape[1] - len(target_columns)\n"
      ],
      "metadata": {
        "id": "tKFx7iAuTGh8"
      },
      "execution_count": null,
      "outputs": []
    },
    {
      "cell_type": "code",
      "source": [
        "\n",
        "epochs = 35\n",
        "batch_size = 512\n",
        "\n",
        "model = MLPWithAttentionAll(input_dim).to(device)\n",
        "X_train = train_data.drop(columns=list(target_columns)).values\n",
        "y_train = train_data[target_columns].values\n",
        "\n",
        "# standariser\n",
        "scaler_X = StandardScaler()\n",
        "X_train_scaled = scaler_X.fit_transform(X_train)\n",
        "\n",
        "scaler_y = StandardScaler()\n",
        "y_train_scaled = scaler_y.fit_transform(y_train)\n",
        "\n",
        "scale_tensor = torch.tensor(scaler_y.scale_, dtype=torch.float32, device=device)\n",
        "mean_tensor = torch.tensor(scaler_y.mean_, dtype=torch.float32, device=device)\n",
        "\n",
        "# train-validation de 20%\n",
        "X_train_split, X_val, y_train_split, y_val = train_test_split(X_train_scaled, y_train_scaled, test_size=0.2, random_state=42)\n",
        "\n",
        "X_train_split = torch.tensor(X_train_split, dtype=torch.float32, device=device)\n",
        "y_train_split = torch.tensor(y_train_split, dtype=torch.float32, device=device)\n",
        "X_val = torch.tensor(X_val, dtype=torch.float32, device=device)\n",
        "y_val = torch.tensor(y_val, dtype=torch.float32, device=device)\n",
        "\n",
        "train_dataset = TensorDataset(X_train_split, y_train_split)\n",
        "val_dataset = TensorDataset(X_val, y_val)\n",
        "\n",
        "train_loader = DataLoader(train_dataset, batch_size=batch_size, shuffle=True)\n",
        "val_loader = DataLoader(val_dataset, batch_size=batch_size, shuffle=False)\n",
        "\n",
        "model.to(device)\n",
        "optimizer = optim.Adam(model.parameters(), lr=0.0001, weight_decay=1e-5)\n",
        "loss_fn = RMSE\n",
        "\n",
        "train_losses = []\n",
        "val_losses = []\n",
        "\n",
        "model.train()\n",
        "for epoch in tqdm(range(epochs)):\n",
        "    train_loss = 0\n",
        "    for batch_X, batch_y in train_loader:\n",
        "        batch_X, batch_y = batch_X.to(device), batch_y.to(device)\n",
        "        optimizer.zero_grad()\n",
        "        pred = model(batch_X)\n",
        "\n",
        "        # déstandariser\n",
        "        pred_real = pred * scale_tensor + mean_tensor\n",
        "        batch_y_real = batch_y * scale_tensor + mean_tensor\n",
        "\n",
        "        #loss de validation\n",
        "        loss = loss_fn(pred_real, batch_y_real)\n",
        "        loss.backward()\n",
        "        optimizer.step()\n",
        "\n",
        "        train_loss += loss.item()\n",
        "\n",
        "    train_loss /= len(train_loader)\n",
        "    train_losses.append(train_loss)\n",
        "\n",
        "    # loss de validation\n",
        "    model.eval()\n",
        "    with torch.no_grad():\n",
        "        val_pred = model(X_val)\n",
        "        val_pred_real = val_pred * scale_tensor + mean_tensor\n",
        "        y_val_real = y_val * scale_tensor + mean_tensor\n",
        "        val_loss = loss_fn(val_pred_real, y_val_real)\n",
        "\n",
        "    val_losses.append(val_loss.item())\n",
        "\n",
        "    if epoch % 10 == 0:\n",
        "        print(f\"Epoch {epoch}, Train Loss: {train_loss:.4f}, Val Loss: {val_loss:.4f}\")\n",
        "\n",
        "# courbes loss\n",
        "plt.plot(range(epochs), train_losses, label=\"Train Loss\")\n",
        "plt.plot(range(epochs), val_losses, label=\"Val Loss\")\n",
        "plt.xlabel(\"Epoch\")\n",
        "plt.ylabel(\"Loss\")\n",
        "plt.legend()\n",
        "plt.title(\"Training and Validation Loss\")\n",
        "plt.show()\n",
        "\n",
        "torch.save(model.state_dict(), \"model.pth\")\n",
        "joblib.dump(scaler_X, \"scaler_X.pkl\")\n",
        "joblib.dump(scaler_y, \"scaler_y.pkl\")\n",
        "print(\"Training complete. Model and scalers saved.\")"
      ],
      "metadata": {
        "colab": {
          "base_uri": "https://localhost:8080/",
          "height": 574
        },
        "id": "5_n2ZpNFTSOI",
        "outputId": "dc780da7-6e86-4a6e-ee06-030b5962cb6c"
      },
      "execution_count": null,
      "outputs": [
        {
          "output_type": "stream",
          "name": "stderr",
          "text": [
            "  3%|▎         | 1/35 [00:01<00:57,  1.70s/it]"
          ]
        },
        {
          "output_type": "stream",
          "name": "stdout",
          "text": [
            "Epoch 0, Train Loss: 1134.2829, Val Loss: 683.0309\n"
          ]
        },
        {
          "output_type": "stream",
          "name": "stderr",
          "text": [
            " 31%|███▏      | 11/35 [00:12<00:24,  1.03s/it]"
          ]
        },
        {
          "output_type": "stream",
          "name": "stdout",
          "text": [
            "Epoch 10, Train Loss: 139.3625, Val Loss: 176.9262\n"
          ]
        },
        {
          "output_type": "stream",
          "name": "stderr",
          "text": [
            " 60%|██████    | 21/35 [00:22<00:14,  1.06s/it]"
          ]
        },
        {
          "output_type": "stream",
          "name": "stdout",
          "text": [
            "Epoch 20, Train Loss: 103.1949, Val Loss: 141.8759\n"
          ]
        },
        {
          "output_type": "stream",
          "name": "stderr",
          "text": [
            " 89%|████████▊ | 31/35 [00:32<00:04,  1.10s/it]"
          ]
        },
        {
          "output_type": "stream",
          "name": "stdout",
          "text": [
            "Epoch 30, Train Loss: 88.7805, Val Loss: 123.6351\n"
          ]
        },
        {
          "output_type": "stream",
          "name": "stderr",
          "text": [
            "100%|██████████| 35/35 [00:36<00:00,  1.04s/it]\n"
          ]
        },
        {
          "output_type": "display_data",
          "data": {
            "text/plain": [
              "<Figure size 640x480 with 1 Axes>"
            ],
            "image/png": "[encoded data removed]"
          },
          "metadata": {}
        },
        {
          "output_type": "stream",
          "name": "stdout",
          "text": [
            "Training complete. Model and scalers saved.\n"
          ]
        }
      ]
    }
  ]
}
